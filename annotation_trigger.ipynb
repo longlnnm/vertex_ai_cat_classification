{
 "cells": [
  {
   "cell_type": "code",
   "execution_count": 6,
   "id": "0502bb56-4dcd-40df-ae79-6c261d5973a9",
   "metadata": {},
   "outputs": [],
   "source": [
    "from kfp.v2.google.client import AIPlatformClient\n",
    "import os"
   ]
  },
  {
   "cell_type": "code",
   "execution_count": 7,
   "id": "86ee01f3-2861-410b-80d2-b700c51c0475",
   "metadata": {},
   "outputs": [],
   "source": [
    "PROJECT_ID = \"famous-momentum-338708\"\n",
    "REGION = 'us-central1'\n",
    "GCBUCKET = \"gs://long_cat_classification\"\n",
    "PIPELINE_ROOT = os.path.join(GCBUCKET, \"pipeline\")\n",
    "PIPELINE_SPEC_PATH = os.path.join(\"./\", \"pipeline\", \"spec\", \"pipeline.json\")"
   ]
  },
  {
   "cell_type": "code",
   "execution_count": 8,
   "id": "dc57114a-b32a-46fd-86ca-9876fbda43e3",
   "metadata": {},
   "outputs": [],
   "source": [
    "def vertex_ai_pipeline_trigger(event, context):\n",
    "    file_name = event.name[\"name\"]\n",
    "    print(\"File: {}\".format(file_name))\n",
    "    print(\"Extension: ()\".format(file_name.split(\".\")[-1]))\n",
    "    \n",
    "    if file_name.split(\".\")[-1] == \"jsonl\":\n",
    "        print(\"target file extension\")\n",
    "        \n",
    "        api_client = AIPlatformClient(\n",
    "            project_id=PROJECT_ID,\n",
    "            region=REGION\n",
    "        )\n",
    "        \n",
    "        print(\"api_client is successfully instantiated\")\n",
    "        # Retrain model (use same pipeline spec)\n",
    "        response = api_client.create_run_from_job_spec(\n",
    "            f\"{PIPELINE_SPEC_PATH}\",\n",
    "            pipeline_root=f\"{PIPELINE_ROOT}\",\n",
    "            parameter_values={\"project\": PROJECT_ID}\n",
    "        )\n",
    "        \n",
    "        print(\"Response: {}\".format(response))"
   ]
  },
  {
   "cell_type": "code",
   "execution_count": 9,
   "id": "d99169d8-5a82-44c8-8ee4-3b974288043c",
   "metadata": {},
   "outputs": [
    {
     "name": "stdout",
     "output_type": "stream",
     "text": [
      "API [cloudfunctions.googleapis.com] not enabled on project [143143482675]. Would\n",
      " you like to enable and retry (this will take a few minutes)? (y/N)?  ^C\n",
      "\n",
      "\n",
      "Command killed by keyboard interrupt\n",
      "\n"
     ]
    }
   ],
   "source": [
    "!gcloud functions deploy vertex_ai_pipeline_trigger --trigger-resource long_cat_classification/annotations --trigger-event providers/cloud.storage/eventTypes/ojbect.finzlize"
   ]
  },
  {
   "cell_type": "code",
   "execution_count": null,
   "id": "b4999802-9be3-4fd0-909d-e91c97780157",
   "metadata": {},
   "outputs": [],
   "source": [
    "n\n"
   ]
  }
 ],
 "metadata": {
  "environment": {
   "kernel": "conda-root-py",
   "name": "tf2-gpu.2-6.m87",
   "type": "gcloud",
   "uri": "gcr.io/deeplearning-platform-release/tf2-gpu.2-6:m87"
  },
  "kernelspec": {
   "display_name": "Python [conda env:root] *",
   "language": "python",
   "name": "conda-root-py"
  },
  "language_info": {
   "codemirror_mode": {
    "name": "ipython",
    "version": 3
   },
   "file_extension": ".py",
   "mimetype": "text/x-python",
   "name": "python",
   "nbconvert_exporter": "python",
   "pygments_lexer": "ipython3",
   "version": "3.7.12"
  }
 },
 "nbformat": 4,
 "nbformat_minor": 5
}
