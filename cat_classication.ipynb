{
 "cells": [
  {
   "cell_type": "code",
   "execution_count": 1,
   "id": "744f65be-cfaa-4372-a294-177a8c4c204e",
   "metadata": {},
   "outputs": [],
   "source": [
    "from google.cloud import aiplatform\n",
    "from google_cloud_pipeline_components import aiplatform as gcc_aip\n",
    "\n",
    "\n",
    "from kfp.dsl import pipeline\n",
    "from kfp.v2 import compiler\n",
    "from kfp.v2.google.client import AIPlatformClient\n",
    "import os"
   ]
  },
  {
   "cell_type": "code",
   "execution_count": 2,
   "id": "e4a75bd9-17c5-421c-9346-496048f93ba0",
   "metadata": {},
   "outputs": [],
   "source": [
    "PROJECT_ID = \"famous-momentum-338708\"\n",
    "REGION = 'us-central1'\n",
    "GCBUCKET = \"gs://long_cat_classification\"\n",
    "PIPELINE_ROOT = os.path.join(GCBUCKET, \"pipeline\")\n",
    "DATASET_META_PATH = \"gs://long_cat_classification/annotations/export-data-animal_faces-2022-02-11T05:08:16.516040Z/image_classification_single_label/animal_faces_icn-3222541037662633984/data-00001-of-00001.jsonl\"\n",
    "PIPELINE_SPEC_PATH = os.path.join(\"./\", \"pipeline\", \"spec\", \"pipeline.json\")"
   ]
  },
  {
   "cell_type": "code",
   "execution_count": 3,
   "id": "ae8a16a9-930d-4425-80ea-bb660ed9a109",
   "metadata": {},
   "outputs": [],
   "source": [
    "@pipeline(name=\"cat-classfication-pipeline-v2\")\n",
    "def pipeline(project:str=PROJECT_ID, region:str=REGION):\n",
    "    image_ds_op = gcc_aip.ImageDatasetCreateOp(\n",
    "        project=project,\n",
    "        display_name=\"cat_classification_ds\",\n",
    "        gcs_source=f\"{DATASET_META_PATH}\",\n",
    "        import_schema_uri=aiplatform.schema.dataset.ioformat.image.single_label_classification \n",
    "    )\n",
    "    # https://googleapis.dev/python/aiplatform/latest/aiplatform.html#google.cloud.aiplatform.AutoMLImageTrainingJob    \n",
    "    train_job_op = gcc_aip.AutoMLImageTrainingJobRunOp(\n",
    "        project=project,\n",
    "        display_name=\"cat_automl_training\",         \n",
    "        prediction_type=\"classification\",\n",
    "        model_type=\"CLOUD\", # Auto ML automatically finds which model to use (Latency vs Accuracy)\n",
    "        dataset=image_ds_op.outputs[\"dataset\"], # Dataset to train on\n",
    "        model_display_name=\"cat_classification_automl\",        \n",
    "        training_fraction_split=0.7,\n",
    "        validation_fraction_split=0.15,\n",
    "        test_fraction_split=0.15,\n",
    "        budget_milli_node_hours=8000 # When to stop training\n",
    "    )\n",
    "    \n",
    "    # Create endpoiant and deploy model to endpoint\n",
    "    endpoint_op = gcc_aip.EndpointCreateOp(\n",
    "        project=project,        \n",
    "        location=region,\n",
    "        display_name=\"train_cat_automl\"\n",
    "    )\n",
    "    \n",
    "    gcc_aip.ModelDeployOp(\n",
    "        model=train_job_op.outputs[\"model\"],\n",
    "        endpoint=endpoint_op.outputs[\"endpoint\"],\n",
    "        automatic_resources_min_replica_count=1,\n",
    "        automatic_resources_max_replica_count=1\n",
    "    )"
   ]
  },
  {
   "cell_type": "code",
   "execution_count": 4,
   "id": "36a8c762-deaa-4265-b635-e2ced4eaad48",
   "metadata": {},
   "outputs": [
    {
     "name": "stderr",
     "output_type": "stream",
     "text": [
      "/opt/conda/lib/python3.7/site-packages/kfp/v2/compiler/compiler.py:1266: FutureWarning: APIs imported from the v1 namespace (e.g. kfp.dsl, kfp.components, etc) will not be supported by the v2 compiler since v2.0.0\n",
      "  category=FutureWarning,\n",
      "/opt/conda/lib/python3.7/site-packages/kfp/v2/google/client/client.py:173: FutureWarning: AIPlatformClient will be deprecated in v2.0.0. Please use PipelineJob https://googleapis.dev/python/aiplatform/latest/_modules/google/cloud/aiplatform/pipeline_jobs.html in Vertex SDK. Install the SDK using \"pip install google-cloud-aiplatform\"\n",
      "  category=FutureWarning,\n"
     ]
    },
    {
     "data": {
      "text/html": [
       "See the Pipeline job <a href=\"https://console.cloud.google.com/vertex-ai/locations/us-central1/pipelines/runs/cat-classfication-pipeline-v2-20220211075103?project=famous-momentum-338708\" target=\"_blank\" >here</a>."
      ],
      "text/plain": [
       "<IPython.core.display.HTML object>"
      ]
     },
     "metadata": {},
     "output_type": "display_data"
    }
   ],
   "source": [
    "compiler.Compiler().compile(\n",
    "    pipeline_func=pipeline, package_path=f\"{PIPELINE_SPEC_PATH}\"    \n",
    ")\n",
    "\n",
    "api_client = AIPlatformClient(project_id=PROJECT_ID, region=REGION)\n",
    "\n",
    "response = api_client.create_run_from_job_spec(\n",
    "    f\"{PIPELINE_SPEC_PATH}\",\n",
    "    pipeline_root=f\"{PIPELINE_ROOT}\",\n",
    "    parameter_values={\"project\": PROJECT_ID}\n",
    ")"
   ]
  },
  {
   "cell_type": "code",
   "execution_count": null,
   "id": "319ea10f-ffbd-4a75-a72b-a29ce325854d",
   "metadata": {},
   "outputs": [],
   "source": []
  }
 ],
 "metadata": {
  "environment": {
   "kernel": "conda-root-py",
   "name": "tf2-gpu.2-6.m87",
   "type": "gcloud",
   "uri": "gcr.io/deeplearning-platform-release/tf2-gpu.2-6:m87"
  },
  "kernelspec": {
   "display_name": "Python [conda env:root] *",
   "language": "python",
   "name": "conda-root-py"
  },
  "language_info": {
   "codemirror_mode": {
    "name": "ipython",
    "version": 3
   },
   "file_extension": ".py",
   "mimetype": "text/x-python",
   "name": "python",
   "nbconvert_exporter": "python",
   "pygments_lexer": "ipython3",
   "version": "3.7.12"
  }
 },
 "nbformat": 4,
 "nbformat_minor": 5
}
